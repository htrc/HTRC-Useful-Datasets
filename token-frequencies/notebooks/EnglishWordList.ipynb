{
 "cells": [
  {
   "cell_type": "markdown",
   "metadata": {},
   "source": [
    "# Create Wordlist\n",
    "\n",
    "Create a lowercase, lightly-cleaned, English language vocabulary list for Autoencoder training."
   ]
  },
  {
   "cell_type": "code",
   "execution_count": null,
   "metadata": {
    "collapsed": false
   },
   "outputs": [
    {
     "data": {
      "text/plain": [
       "2000000"
      ]
     },
     "execution_count": 2,
     "metadata": {},
     "output_type": "execute_result"
    }
   ],
   "source": [
    "import pandas as pd\n",
    "\n",
    "with pd.HDFStore('../datasets/token-frequencies/token-frequencies-by-language.h5', mode='r') as store:\n",
    "    df = store.select('/eng', stop=2000000)\n",
    "len(df)"
   ]
  },
  {
   "cell_type": "markdown",
   "metadata": {},
   "source": [
    "Lowercase"
   ]
  },
  {
   "cell_type": "code",
   "execution_count": null,
   "metadata": {},
   "outputs": [
    {
     "data": {
      "text/plain": [
       "1620849"
      ]
     },
     "execution_count": 3,
     "metadata": {},
     "output_type": "execute_result"
    }
   ],
   "source": [
    "df = df.reset_index()\n",
    "df['token'] = df.token.str.lower()\n",
    "df = (df.groupby('token', as_index=False)[['count']].sum()\n",
    "        .sort_values('count', ascending=False)\n",
    "     )\n",
    "df.index = range(1,len(df)+1)\n",
    "len(df)"
   ]
  },
  {
   "cell_type": "markdown",
   "metadata": {},
   "source": [
    "Check against a dictionary of real words."
   ]
  },
  {
   "cell_type": "code",
   "execution_count": null,
   "metadata": {},
   "outputs": [
    {
     "name": "stdout",
     "output_type": "stream",
     "text": [
      "[nltk_data] Downloading package words to /home/jovyan/nltk_data...\n",
      "[nltk_data]   Package words is already up-to-date!\n"
     ]
    }
   ],
   "source": [
    "import nltk \n",
    "nltk.download('words')\n",
    "word_list = nltk.corpus.words.words()\n",
    "lower_word_list = set([word.lower() for word in word_list])"
   ]
  },
  {
   "cell_type": "markdown",
   "metadata": {},
   "source": [
    "## Rules for finding possible junk"
   ]
  },
  {
   "cell_type": "code",
   "execution_count": null,
   "metadata": {
    "collapsed": false
   },
   "outputs": [
    {
     "name": "stderr",
     "output_type": "stream",
     "text": [
      "/opt/conda/lib/python3.6/site-packages/ipykernel_launcher.py:6: UserWarning: This pattern has match groups. To actually get the groups, use str.extract.\n",
      "  \n",
      "/opt/conda/lib/python3.6/site-packages/ipykernel_launcher.py:8: UserWarning: This pattern has match groups. To actually get the groups, use str.extract.\n",
      "  \n",
      "/opt/conda/lib/python3.6/site-packages/ipykernel_launcher.py:10: UserWarning: This pattern has match groups. To actually get the groups, use str.extract.\n",
      "  # Remove the CWD from sys.path while we load stuff.\n"
     ]
    }
   ],
   "source": [
    "in_dictionary = df.token.isin(lower_word_list)\n",
    "hyphenated = df.token.str.contains(r\"-\")\n",
    "alpha = df.token.str.isalpha()\n",
    "basic_number = df.token.str.contains(r\"\\d\")\n",
    "all_num = df.token.str.contains(r\"^\\d+$\")\n",
    "number = df.token.str.contains(r\"^(£|$|€)?[\\d.,]+(st|nd|rd|th|s|C|F|c|m|°|¥)?$\")\n",
    "singlequote = df.token.str.contains(r\"[\\'’]\")\n",
    "abbr = df.token.str.contains(r\"^[^\\W\\d]([^\\W\\d]|\\.)+$\")\n",
    "endwithperiod = df.token.str.endswith('.')\n",
    "long_s_or_ligature = df.token.str.contains('(ﬂ|ﬁ|ﬄ|ﬃ|ﬀ|ſ)')\n",
    "tlen = df.token.str.len()"
   ]
  },
  {
   "cell_type": "code",
   "execution_count": null,
   "metadata": {},
   "outputs": [
    {
     "name": "stdout",
     "output_type": "stream",
     "text": [
      "99630\n",
      "790072\n",
      "973614\n",
      "974159\n",
      "975104\n",
      "975511\n",
      "975511\n",
      "975511\n",
      "975547\n",
      "966914\n"
     ]
    }
   ],
   "source": [
    "df['keep'] = in_dictionary\n",
    "print(df.keep.sum())\n",
    "\n",
    "# Keep alpha-only words (>2 char)\n",
    "df.loc[alpha & ~df.keep & (tlen >= 3), 'keep'] = True\n",
    "print(df.keep.sum())\n",
    "\n",
    "# Keep longer hyphenated words\n",
    "df.loc[hyphenated & ~df.keep & (tlen > 3), 'keep'] = True\n",
    "print(df.keep.sum())\n",
    "\n",
    "# Include abbreviations, but only the top ones\n",
    "df.loc[abbr & ~alpha & (tlen >2) & (~df.keep) & (df.index < 35000), 'keep'] = True\n",
    "print(df.keep.sum())\n",
    "\n",
    "# Include Top Numbers\n",
    "df.loc[(~df.keep) & (basic_number) & (number) & (df.index < 10000), 'keep'] = True\n",
    "print(df.keep.sum())\n",
    "\n",
    "# Include 4 digit numbers\n",
    "df.loc[(~df.keep) & (tlen == 4) & (all_num) & (df.index < 30000), 'keep'] = True\n",
    "print(df.keep.sum())\n",
    "\n",
    "# Include top <4 digit numbers\n",
    "df.loc[(~df.keep) & (tlen < 4) & (all_num) & (df.index < 10000), 'keep'] = True\n",
    "print(df.keep.sum())\n",
    "\n",
    "# Exclude Short non-alpha matches\n",
    "df.loc[(tlen == 1) & ~(alpha|all_num),'keep'] = False\n",
    "print(df.keep.sum())\n",
    "\n",
    "# Include a few top single-quote chars\n",
    "df.loc[(~df.keep) & (singlequote) & (df.index < 10000), 'keep'] = True\n",
    "print(df.keep.sum())\n",
    "\n",
    "# Remove Ligatures\n",
    "df.loc[long_s_or_ligature, 'keep'] = False\n",
    "print(df.keep.sum())"
   ]
  },
  {
   "cell_type": "markdown",
   "metadata": {},
   "source": [
    "## Calculate character probabilities to help assess realistic long-tail words"
   ]
  },
  {
   "cell_type": "code",
   "execution_count": null,
   "metadata": {},
   "outputs": [],
   "source": [
    "def get_ngrams(s, size=2, pad=False):\n",
    "    '''\n",
    "    Split a word into chracter-level ngrams - bigrams by default.\n",
    "    '''\n",
    "    if pad:\n",
    "        # Assuming we're looking at lowercase words, uppercase B\n",
    "        # and E will pad words to identify begin/end of words\n",
    "        s = 'B'*(size-1) + s + 'E'*(size-1)\n",
    "    return [s[i:i+size] for i in range(0, len(s)+1-size)]"
   ]
  },
  {
   "cell_type": "markdown",
   "metadata": {},
   "source": [
    "Use dictionary words from Numpy for the probabilities, not the messier OCR-derived tokens actually seen in HT.\n",
    "\n",
    "Word popularity is not included in the probabilities, so 'that' and 'dawg' contribute equally."
   ]
  },
  {
   "cell_type": "code",
   "execution_count": null,
   "metadata": {},
   "outputs": [],
   "source": [
    "from collections import defaultdict\n",
    "import numpy as np\n",
    "\n",
    "counts = defaultdict(int)\n",
    "\n",
    "for token in lower_word_list:\n",
    "    trigrams = get_ngrams(token, size=3, pad=True)\n",
    "    for trigram in trigrams:\n",
    "        counts[trigram] += 1\n",
    "\n",
    "trigram_counts = pd.Series(counts).sort_values(ascending=False)\n",
    "trigram_log_probs = np.log(trigram_counts / trigram_counts.sum()).to_dict()\n",
    "min_prob = np.min(list(trigram_log_probs.values()))"
   ]
  },
  {
   "cell_type": "code",
   "execution_count": null,
   "metadata": {},
   "outputs": [],
   "source": [
    "def word_probability(s, size=2, pad=False, exp=False, prob_dict=trigram_log_probs, min_prob=min_prob):\n",
    "    \"\"\" Size and Pad should match was was used for the probability dictionary \"\"\"\n",
    "    ngrams = get_ngrams(s, size=size, pad=pad)\n",
    "    probs = []\n",
    "    for ngram in ngrams:\n",
    "        if ngram in prob_dict:\n",
    "            probs.append(prob_dict[ngram])\n",
    "        else:\n",
    "            probs.append(min_prob)\n",
    "    if exp:\n",
    "        # convert result back to regular probabilities\n",
    "        return np.exp(np.sum(probs))\n",
    "    else:\n",
    "        return np.sum(probs)\n",
    "    \n",
    "def avg_word_probability(s, size=2, pad=False, exp=False, prob_dict=trigram_log_probs, min_prob=min_prob):\n",
    "    \"\"\" Get the average character ngram probability for a word\"\"\"\n",
    "    ngrams = get_ngrams(s, size=size, pad=pad)\n",
    "    probs = []\n",
    "    for ngram in ngrams:\n",
    "        if ngram in prob_dict:\n",
    "            probs.append(prob_dict[ngram])\n",
    "        else:\n",
    "            probs.append(min_prob)\n",
    "    avg_prob = np.mean([np.exp(x) for x in probs])\n",
    "    if exp:\n",
    "        return avg_prob\n",
    "    else:\n",
    "        return np.log(avg_prob)"
   ]
  },
  {
   "cell_type": "code",
   "execution_count": null,
   "metadata": {},
   "outputs": [],
   "source": [
    "kwargs = dict(size=3, pad=True, prob_dict=trigram_log_probs)\n",
    "df['avg_prob'] = df.token.apply(lambda x: avg_word_probability(x, **kwargs))\n",
    "df['prob'] = df.token.apply(lambda x: word_probability(x, **kwargs))"
   ]
  },
  {
   "cell_type": "markdown",
   "metadata": {},
   "source": [
    "### Plotting Word probabilities\n",
    "\n",
    "First, see probabilities relative to their rank in the word list."
   ]
  },
  {
   "cell_type": "code",
   "execution_count": null,
   "metadata": {},
   "outputs": [],
   "source": []
  },
  {
   "cell_type": "code",
   "execution_count": null,
   "metadata": {},
   "outputs": [
    {
     "data": {
      "text/plain": [
       "<matplotlib.axes._subplots.AxesSubplot at 0x7ff4769bc1d0>"
      ]
     },
     "execution_count": 14,
     "metadata": {},
     "output_type": "execute_result"
    },
    {
     "data": {
      "image/png": "[encoded data removed]",
      "text/plain": [
       "<matplotlib.figure.Figure at 0x7ff476e676a0>"
      ]
     },
     "metadata": {},
     "output_type": "display_data"
    }
   ],
   "source": [
    "%matplotlib inline\n",
    "dist = df.prob[:500000:5].rolling(1000)\n",
    "dist.mean().plot(figsize=(20,5))"
   ]
  },
  {
   "cell_type": "markdown",
   "metadata": {},
   "source": [
    "### Dropping by character trigram probabilities\n",
    "\n",
    "Find the log-probability cutoff that would have excluded 75% of the words that we've already culled. \n",
    "\n",
    "For the long tail, words less likely than that cutoff will be dropped."
   ]
  },
  {
   "cell_type": "code",
   "execution_count": null,
   "metadata": {},
   "outputs": [
    {
     "data": {
      "text/plain": [
       "(-14.814965275099166,\n",
       " -7.093971335299262,\n",
       " -6.702917242980172,\n",
       " -6.281129524360181,\n",
       " -6.044520668408062,\n",
       " -5.899279374501542)"
      ]
     },
     "execution_count": 15,
     "metadata": {},
     "output_type": "execute_result"
    }
   ],
   "source": [
    "cutoff1 = df.loc[~df.keep].avg_prob.quantile(q=0.55)\n",
    "cutoff2 = df.loc[~df.keep].avg_prob.quantile(q=0.75)\n",
    "cutoff3 = df.loc[~df.keep].avg_prob.quantile(q=0.85)\n",
    "cutoff4 = df.loc[~df.keep].avg_prob.quantile(q=0.95)\n",
    "cutoff5 = df.loc[~df.keep].avg_prob.quantile(q=0.98)\n",
    "cutoff6 = df.loc[~df.keep].avg_prob.quantile(q=0.99)\n",
    "cutoff1, cutoff2, cutoff3, cutoff4, cutoff5, cutoff6"
   ]
  },
  {
   "cell_type": "markdown",
   "metadata": {},
   "source": [
    "Examples of words that will be dropped:"
   ]
  },
  {
   "cell_type": "code",
   "execution_count": null,
   "metadata": {},
   "outputs": [
    {
     "name": "stdout",
     "output_type": "stream",
     "text": [
      "['ηαβ', '-7.6', '5-44', 'لين', '4-in.', 'ίτοπι', 'هذه', '159-60', '258-259', '83-86', 'وهما', '154-155', '149-151', '55-65', '52-9', '1992-1993', '-13.0', 'ρετ', 'ملأ', '65-5', '12-23', '178-9', '24-48', '1-93', 'اتم', 'ипл', '71-78', '203-4', 'ةها', '20-60', 'ттттт', 'المه', '-20-', '0-83', 'пес', '73-79', 'ιζε', 'ةلم', 'قهقه', '29-2', 'كعك', '---—', '23-0', '1984-86', '193-194', '141-143', '1845-', '147-149', '181-182', 'لهن', '16-31', '21-32', '1968-70', '89-94', '296-297', '1,3-', 'इतन', '2-88', '34-1', 'قلقا', '11-26', 'бег', '176-178', 'узпггггаэ', '29-6', '369-370', '16-9', '(5-6', 'للام', '-0.002', '76-80', 'гон', '60-2', '153-54', 'действие', 'воок', '25-36', '-.....', '57-62', 'ища', 'рарег', '51-0', '153-155', 'خود', '1977-81', '341-342', '81-5', '41-5', '4-51', '4-56', 'ткани', '285-286', '1-61', '161-2', 'ипа', 'типе', '-------.', 'дно', '4-31', 'годы']\n"
     ]
    }
   ],
   "source": [
    "print(df.loc[(df.index > 100000) & (df.index < 200000) & df.keep & (df.avg_prob <= cutoff1), 'token'].sample(100).tolist())"
   ]
  },
  {
   "cell_type": "code",
   "execution_count": null,
   "metadata": {},
   "outputs": [
    {
     "name": "stdout",
     "output_type": "stream",
     "text": [
      "['-350', 'ονοι', 'barzillai', '1933-37', '49-57', '1894-97', 'mittel-', 'janik', 'wasserburg', 'mississipi', 'lovesick', 'laith', 'ncf', 'queensborough', 'janak', '•*->', 'expliqué', 'noordhoff', 'korrektur', 'lahu', '-223', '1893-4.', 'effi', 'kineo', 'guysboro', 'laptev', 'مالها', 'وهالا', 'задачи', 'hs-016', '1873-76', 'вишни', 'zulfikar', 'katoh', ':10-11', 'dmv', 'funck', 'guipuzcoa', 'epw', ',—-a', 'ioooo', 'worh', 'itzzzz', 'origi', 'fmri', 'feltz', 'lollipop', 'holtzclaw', '1939-46', 'ignatieff', 'каждой', 'апн', 'nelli', 'вчч', 'litvinoff', 'laii', 'ellow', 'blaauw', 'дав', '.__-__', 'لمه', '35-year-old', 'akihiko', 'naumkeag', 'oxyhaemoglobin', 'vitreum', 'иск', 'средств', 'оооооо', '8-65', '1944-47', '54-61', 'كلك', 'fook', 'общего', 'όνομα', '-16.1', 'etui', 'frankf', '09-30', 'لالهة', 'ранее', 'nakamoto', 'حلو', 'аые', '85-2', 'vob', '1775-1783', '1954-60', 'है-ट', 'образомъ', '1970-1973', 'enewetak', 'two-loop', '9-93', 'hacerlo', '351-2', 'ايل', 'сош', 'глаза']\n"
     ]
    }
   ],
   "source": [
    "print(df.loc[(df.index > 200000) & (df.index < 300000) & df.keep & (df.avg_prob <= cutoff2), 'token'].sample(100).tolist())"
   ]
  },
  {
   "cell_type": "markdown",
   "metadata": {},
   "source": [
    "Examples of words that will be kept:"
   ]
  },
  {
   "cell_type": "code",
   "execution_count": null,
   "metadata": {},
   "outputs": [
    {
     "name": "stdout",
     "output_type": "stream",
     "text": [
      "['psychotherapist', 'vab', 'tabletop', 'answereth', 'dissector', 'bator', 'factores', 'cently', 'tragédie', 'short-tailed', 'upper-division', 'peor', 'leto', 'gewonnenen', 'leucorrhea', 'dionysios', 'biogeochemistry', 'plaie', 'gephardt', 'versos', 'finisterre', 'mosel', 'moniliform', 'faradization', 'piny', 'anyplace', 'aclu', 'blough', 'phytogeny', 'geber', 'takayama', 'nique', 'empfohlen', 'rascality', 'fluorescens', 'choreographers', 'collaborates', 'proinde', 'ranchman', 'gemachten', 'pentax', 'north-northwest', 'boisterously', 'rowel', 'gradings', 'shapers', 'strobus', 'threlkeld', 'invitational', 'deceitfully', 'lié', 'ouellette', 'paﬅ', 'ganesa', 'elegit', 'annatto', 'dirtier', 'evolutionist', 'sanat', 'disputatio', 'congealing', 'gimp', 'othere', 'self-regulating', 'volumus', '60-inch', 'fragt', 'patin', 'dewe', 'whitelocke', 'hendee', 'poller', 'atis', 'ecially', 'lsaac', 'showmanship', 'lems', 'onslaughts', 'degs', 'backlund', 'benzo', 'syncytium', 'beidler', 'condolences', 'kamer', 'calculational', 'onge', 'scrawny', 'sansone', 'poppe', 'dlby', 'mooltan', 'montville', 'air-bubbles', 'lubbers', 'self-abasement', 'tracheobronchial', 'conditionals', 'columbanus', 'cajun']\n"
     ]
    }
   ],
   "source": [
    "print(df.loc[(df.index > 100000) & (df.index < 200000) & df.keep & (df.avg_prob > cutoff1), 'token'].sample(100).tolist())"
   ]
  },
  {
   "cell_type": "code",
   "execution_count": null,
   "metadata": {},
   "outputs": [
    {
     "name": "stdout",
     "output_type": "stream",
     "text": [
      "['overburdening', 'prefetch', 'coio', 'poisoners', 'entirelv', 'schuldig', 'disputer', 'verhaltnisse', 'gerl', 'lhis', 'appert', 'víctor', 'aveo', 'amphlett', 'ametek', 'clarki', 'messmore', 'sugi', 'clucked', 'prevalency', 'bossard', 'tischer', 'burgas', 'battaile', 'nonionizing', 'true-love', 'brhaspati', 'postexposure', 'thalassia', 'glycogenic', 'cross-disciplinary', 'culhane', 'interet', 'aortography', 'exorbitantly', 'schachner', 'drawdowns', 'cafés', 'stohr', 'heymans', 'oppel', 'inhomogeneously', 'sisymbrium', 'orchestrating', 'titanates', 'rusi', 'stunkard', 'decedest', 'ntd', 'an-1', 'carbutt', 'arborvitae', 'trichromatic', 'tpke', 'amorpha', 'flexuose', 'otel', 'fastidiously', 'sub-assistant', 'déposés', 'tuberk', 'hedy', 'cephaloridine', 'numeros', 'abcs', 'acanthamoeba', 'prodns', 'rictus', 'cebes', 'landt', 'absent-mindedly', 'khode', 'hypnotize', 'baluze', 'sabel', 'oestrone', 'jedesmal', 'caulker', 'andren', 'prefervation', 'waltair', 'anicetus', 'boshes', 'monteil', 'kolkhozes', 'doffing', 'whimsies', 'glessner', 'solubilize', 'perit', 'anatom', 'refurbish', 'ahy', 'roache', 'thorazine', 'oughtest', 'hoddesdon', 'crazier', 'ichthyosaurus', 'inglehart']\n"
     ]
    }
   ],
   "source": [
    "print(df.loc[(df.index > 200000) & (df.index < 300000) & df.keep & (df.avg_prob > cutoff2), 'token'].sample(100).tolist())"
   ]
  },
  {
   "cell_type": "markdown",
   "metadata": {},
   "source": [
    "Looks fine. Cull, cull, cull!"
   ]
  },
  {
   "cell_type": "code",
   "execution_count": null,
   "metadata": {},
   "outputs": [],
   "source": [
    "# So I can back up!\n",
    "keep = df.keep.copy()"
   ]
  },
  {
   "cell_type": "code",
   "execution_count": null,
   "metadata": {},
   "outputs": [
    {
     "name": "stdout",
     "output_type": "stream",
     "text": [
      "857541\n",
      "755295\n",
      "620716\n",
      "360203\n",
      "243132\n",
      "202498\n"
     ]
    }
   ],
   "source": [
    "df.keep = keep.copy()\n",
    "df.loc[(df.index > 50000) & df.keep & (df.avg_prob <= cutoff1), 'keep'] = False\n",
    "print(df.keep.sum())\n",
    "df.loc[(df.index > 100000) & df.keep & (df.avg_prob <= cutoff2), 'keep'] = False\n",
    "print(df.keep.sum())\n",
    "df.loc[(df.index > 200000) & df.keep & (df.avg_prob <= cutoff3), 'keep'] = False\n",
    "print(df.keep.sum())\n",
    "df.loc[(df.index > 250000) & df.keep & (df.avg_prob <= cutoff4), 'keep'] = False\n",
    "print(df.keep.sum())\n",
    "df.loc[(df.index > 300000) & df.keep & (df.avg_prob <= cutoff5), 'keep'] = False\n",
    "print(df.keep.sum())\n",
    "df.loc[(df.index > 350000) & df.keep & (df.avg_prob <= cutoff6), 'keep'] = False\n",
    "print(df.keep.sum())"
   ]
  },
  {
   "cell_type": "markdown",
   "metadata": {},
   "source": [
    "One last check: which words are in the NLTK dictionary but that will be dropped?"
   ]
  },
  {
   "cell_type": "code",
   "execution_count": null,
   "metadata": {},
   "outputs": [
    {
     "name": "stdout",
     "output_type": "stream",
     "text": [
      "42839\n",
      "['godlikeness', 'cladothrix', 'tarsonemidae', 'warmongering', 'unexcepted', 'heatstroke', 'barrelhead', 'niyoga', 'retardment', 'helvella', 'loanword', 'oxter', 'beestings', 'tantalic', 'scrounging', 'marang', 'unagreed', 'cushy', 'galactorrhea', 'antistreptococcic', 'tanked', 'engram', 'lupercal', 'discriminable', 'saltwort', 'tocharian', 'antinarcotic', 'sexagenary', 'meshwork', 'hydrohalide', 'proseminary', 'termor', 'zamia', 'nonmedicinal', 'floriculturist', 'unloveliness', 'isotria', 'procommunist', 'hybridation', 'snapback', 'gaeldom', 'argasidae', 'claytonia', 'myrmecophilous', 'tramper', 'merak', 'antennary', 'neper', 'cardiidae', 'cerulein', 'micrography', 'nonstandardized', 'toxication', 'acritical', 'phrenetic', 'wanty', 'alkalimeter', 'unsprinklered', 'pushover', 'repeople', 'atticist', 'inappetence', 'schnorrer', 'unpreaching', 'drawspan', 'pyrrhonist', 'renunciatory', 'womanizer', 'mediad', 'benben', 'praxitelean', 'humbuggery', 'subdelegation', 'kallima', 'yponomeuta', 'ortyx', 'barken', 'precollegiate', 'downthrow', 'lewisia', 'facy', 'alcyonacea', 'removability', 'ceratops', 'dornock', 'lockian', 'intersession', 'lachenalia', 'giornata', 'snoozer', 'snipper', 'oxyphosphate', 'hyoides', 'entomogenous', 'sarod', 'sinnet', 'chelidonine', 'nonendemic', 'influencer', 'cheerleader']\n"
     ]
    }
   ],
   "source": [
    "missing = df[~df.keep & df.token.isin(lower_word_list)]\n",
    "print(len(missing))\n",
    "print(missing.sample(100).token.tolist())"
   ]
  },
  {
   "cell_type": "markdown",
   "metadata": {},
   "source": [
    "Fun words! But likely fine to lose."
   ]
  },
  {
   "cell_type": "markdown",
   "metadata": {},
   "source": [
    "# Review\n",
    "\n",
    "At this point, I'm trying to manually review how much of the remaining list is necessary to keep.\n",
    "\n",
    "Roughly, Im finding:\n",
    "\n",
    "- 100-120k is sparsely useful words\n",
    "- 120-140k is rarely useful\n",
    "- 140k-160k is very rarely useful - anything after 140k is usually fine to drop."
   ]
  },
  {
   "cell_type": "code",
   "execution_count": null,
   "metadata": {},
   "outputs": [
    {
     "name": "stdout",
     "output_type": "stream",
     "text": [
      "['serpa', 'gustine', 'mycin', 'umbilicate', 'clewell', 'banneret', 'sedgy', 'palish', 'pvs', 'feot', 'schweppes', 'granja', 'bestselling', 'homesteaded', 'many-electron', 'vailing', 'adhemar', 'marchbanks', 'affiftance', 'radionavigation', 'enceladus', 'polymerizable', 'etrangere', 'longer-range', 'apodemus', 'czernin', 'sja', 'wordplay', 'anuales', 'cross-reactive', 'tycoons', 'calyxes', 'centaury', 'sirhind', 'phcebus', 'cicatrisation', 'cerc', 'nmd', 'fermée', 'statuti', 'microspore', 'bvd', 'calendario', 'unrealizable', 'berd', 'deliverables', 'wone', 'journee', 'bloodied', 'demott', 'stls', 'hentschel', 'sonthern', 'nolite', 'hollon', 'skane', 'ergy', 'fupplied', 'sixte', 'lliey', 'ignorantia', 'spoile', 'fairbridge', 'rcent', 'poto', 'syke', 'fridman', 'augustins', 'soccage', 'anti-pope', 'crosspiece', 'poteet', 'unestablished', 'inspectional', 'proleg', 'composant', 'initiales', 'chora', 'sherrick', 'cruelle', 'martire', 'provirus', 'bilharziasis', 'wouters', 'fluoranthene', 'ukiyo-e', 'ganized', 'syncellus', 'talion', 'nardus', 'mediations', 'disinter', 'tankersley', 'patiens', 'gleichzeitige', '20-page', 'ichor', 'selfsustaining', 'transition-state', 'illegitimately']\n"
     ]
    }
   ],
   "source": [
    "start, end = 140000, 160000\n",
    "sample = df[(df.keep)][start:end].sample(100).token.tolist()\n",
    "print(sample)"
   ]
  },
  {
   "cell_type": "markdown",
   "metadata": {},
   "source": [
    "## Save final list"
   ]
  },
  {
   "cell_type": "code",
   "execution_count": null,
   "metadata": {},
   "outputs": [
    {
     "data": {
      "text/plain": [
       "1    the\n",
       "2     of\n",
       "3    and\n",
       "4     to\n",
       "5     in\n",
       "Name: token, dtype: object"
      ]
     },
     "execution_count": 25,
     "metadata": {},
     "output_type": "execute_result"
    }
   ],
   "source": [
    "final = df.loc[df.keep, 'token'].copy()\n",
    "final.index = range(1, len(final)+1)\n",
    "final.head()"
   ]
  },
  {
   "cell_type": "code",
   "execution_count": null,
   "metadata": {},
   "outputs": [],
   "source": [
    "final.to_csv('eng-vocab-1.txt.bz2', index=False, header=False, compression='bz2')"
   ]
  },
  {
   "cell_type": "markdown",
   "metadata": {},
   "source": [
    "### Example Read"
   ]
  },
  {
   "cell_type": "code",
   "execution_count": null,
   "metadata": {},
   "outputs": [
    {
     "data": {
      "text/html": [
       "<div>\n",
       "<style scoped>\n",
       "    .dataframe tbody tr th:only-of-type {\n",
       "        vertical-align: middle;\n",
       "    }\n",
       "\n",
       "    .dataframe tbody tr th {\n",
       "        vertical-align: top;\n",
       "    }\n",
       "\n",
       "    .dataframe thead th {\n",
       "        text-align: right;\n",
       "    }\n",
       "</style>\n",
       "<table border=\"1\" class=\"dataframe\">\n",
       "  <thead>\n",
       "    <tr style=\"text-align: right;\">\n",
       "      <th></th>\n",
       "      <th>token</th>\n",
       "    </tr>\n",
       "  </thead>\n",
       "  <tbody>\n",
       "    <tr>\n",
       "      <th>0</th>\n",
       "      <td>the</td>\n",
       "    </tr>\n",
       "    <tr>\n",
       "      <th>1</th>\n",
       "      <td>of</td>\n",
       "    </tr>\n",
       "    <tr>\n",
       "      <th>2</th>\n",
       "      <td>and</td>\n",
       "    </tr>\n",
       "    <tr>\n",
       "      <th>3</th>\n",
       "      <td>to</td>\n",
       "    </tr>\n",
       "    <tr>\n",
       "      <th>4</th>\n",
       "      <td>in</td>\n",
       "    </tr>\n",
       "  </tbody>\n",
       "</table>\n",
       "</div>"
      ],
      "text/plain": [
       "  token\n",
       "0   the\n",
       "1    of\n",
       "2   and\n",
       "3    to\n",
       "4    in"
      ]
     },
     "execution_count": 27,
     "metadata": {},
     "output_type": "execute_result"
    }
   ],
   "source": [
    "test = pd.read_csv('eng-vocab-1.txt.bz2', names=['token'])\n",
    "test.head()"
   ]
  }
 ],
 "metadata": {
  "kernelspec": {
   "display_name": "Python 3",
   "language": "python",
   "name": "python3"
  },
  "language_info": {
   "codemirror_mode": {
    "name": "ipython",
    "version": 3
   },
   "file_extension": ".py",
   "mimetype": "text/x-python",
   "name": "python",
   "nbconvert_exporter": "python",
   "pygments_lexer": "ipython3",
   "version": "3.6.3"
  }
 },
 "nbformat": 4,
 "nbformat_minor": 2
}
